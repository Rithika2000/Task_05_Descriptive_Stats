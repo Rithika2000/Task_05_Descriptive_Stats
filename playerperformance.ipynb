{
 "cells": [
  {
   "cell_type": "markdown",
   "metadata": {},
   "source": [
    "## 1. How many players are listed in the dataset?"
   ]
  },
  {
   "cell_type": "code",
   "execution_count": 2,
   "metadata": {},
   "outputs": [
    {
     "name": "stdout",
     "output_type": "stream",
     "text": [
      "Number of actual players in the dataset: 32\n"
     ]
    }
   ],
   "source": [
    "import pandas as pd\n",
    "\n",
    "# path file CSV\n",
    "players_data = \"/Users/rithikagurram/Documents/OPT Work/week2/Player_Stats.csv\"\n",
    "\n",
    "# Load the dataset\n",
    "df = pd.read_csv(players_data)\n",
    "\n",
    "# Filter out rows where PLAYER is missing or blank\n",
    "players = df['PLAYER'].notna() & (df['PLAYER'].astype(str).str.strip() != \"\")\n",
    "\n",
    "# Count only those rows\n",
    "num_valid_players = players.sum()\n",
    "\n",
    "print(\"Number of actual players in the dataset:\", num_valid_players)\n",
    "\n",
    "\n"
   ]
  },
  {
   "cell_type": "markdown",
   "metadata": {},
   "source": [
    "## 2. What is the average number of goals (g) scored per player?\n"
   ]
  },
  {
   "cell_type": "code",
   "execution_count": 3,
   "metadata": {},
   "outputs": [
    {
     "name": "stdout",
     "output_type": "stream",
     "text": [
      "Average goals for player: 7.31\n"
     ]
    }
   ],
   "source": [
    "valid_players = df.loc[players].copy()  \n",
    "\n",
    "# convert the 'G' column to numeric and fill any missing values with 0\n",
    "valid_players.loc['G'] = pd.to_numeric(valid_players['G'],errors='coerce').fillna(0)\n",
    "\n",
    "#calculate and print the average goals per player\n",
    "average_goals = valid_players['G'].mean()\n",
    "print(f\"Average goals for player: {average_goals:.2f}\")\n"
   ]
  },
  {
   "cell_type": "markdown",
   "metadata": {},
   "source": [
    "## 3.Which player scored the highest number of goals (g)?"
   ]
  },
  {
   "cell_type": "code",
   "execution_count": 21,
   "metadata": {},
   "outputs": [
    {
     "name": "stdout",
     "output_type": "stream",
     "text": [
      "Top scorer: Muchnick, Emma with 34 goals\n"
     ]
    }
   ],
   "source": [
    "top_scorer = valid_players.loc[valid_players['G'].idxmax()]\n",
    "print(f\"Top scorer: {top_scorer['PLAYER']} with {int(top_scorer['G'])} goals\")"
   ]
  },
  {
   "cell_type": "markdown",
   "metadata": {},
   "source": [
    "# 4. Who had the most assists this season?"
   ]
  },
  {
   "cell_type": "code",
   "execution_count": 5,
   "metadata": {},
   "outputs": [
    {
     "name": "stdout",
     "output_type": "stream",
     "text": [
      "Top assister: Ward, Emma with 46 assists\n"
     ]
    }
   ],
   "source": [
    "top_assister = valid_players.loc[valid_players['A'].idxmax()]\n",
    "print(f\"Top assister: {top_assister['PLAYER']} with {int(top_assister['A'])} assists\")"
   ]
  },
  {
   "cell_type": "markdown",
   "metadata": {},
   "source": [
    "## 5. Which player had the highest goals per game ratio"
   ]
  },
  {
   "cell_type": "code",
   "execution_count": 10,
   "metadata": {},
   "outputs": [
    {
     "name": "stdout",
     "output_type": "stream",
     "text": [
      "Top goals-per-game: Adamson, Olivia with 3.33 goals per game\n"
     ]
    }
   ],
   "source": [
    " #Split \"GP-GS\" into two columns safely\n",
    "parts = valid_players['GP-GS'].str.split('-', expand=True)\n",
    "valid_players['GP'] = pd.to_numeric(parts[0], errors='coerce').fillna(0)\n",
    "\n",
    "#convert goals to numeric\n",
    "valid_players['G'] = pd.to_numeric(valid_players['G'],errors='coerce').fillna(0)\n",
    "\n",
    "#calculate goals per game ratio,avoiding division by zero\n",
    "valid_players['GPG'] = valid_players['G']/valid_players['GP'].replace({0:1})\n",
    "\n",
    "#Identify and print the players with the highest GPG\n",
    "top = valid_players.loc[valid_players['GPG'].idxmax()]\n",
    "print(f\"Top goals-per-game: {top['PLAYER']} with {top['GPG']:.2f} goals per game\")"
   ]
  },
  {
   "cell_type": "markdown",
   "metadata": {},
   "source": [
    "# 6. Who had the highest shooting accuracy and shot-on-goal percentage?"
   ]
  },
  {
   "cell_type": "code",
   "execution_count": 13,
   "metadata": {},
   "outputs": [
    {
     "name": "stdout",
     "output_type": "stream",
     "text": [
      "Highest SH%: Rich, Mackenzie with 1.0\n",
      "Highest SOG%: Peters, Bri with 1.0\n"
     ]
    }
   ],
   "source": [
    "# Convert 'SH%' and 'SOG%' to numeric\n",
    "valid_players['SH%'] = pd.to_numeric(valid_players['SH%'], errors='coerce')\n",
    "valid_players['SOG%'] = pd.to_numeric(valid_players['SOG%'], errors='coerce')\n",
    "\n",
    "# Identify top shooting accuracy and top shot-on-goal percentage\n",
    "top_shooter = valid_players.loc[valid_players['SH%'].idxmax(), ['PLAYER', 'SH%']]\n",
    "top_sog = valid_players.loc[valid_players['SOG%'].idxmax(), ['PLAYER', 'SOG%']]\n",
    "\n",
    "print(f\"Highest SH%: {top_shooter['PLAYER']} with {top_shooter['SH%']}\")\n",
    "print(f\"Highest SOG%: {top_sog['PLAYER']} with {top_sog['SOG%']}\")"
   ]
  },
  {
   "cell_type": "markdown",
   "metadata": {},
   "source": [
    "# 7. How many players caused more than 5 turnovers ?first give your answer"
   ]
  },
  {
   "cell_type": "code",
   "execution_count": 14,
   "metadata": {},
   "outputs": [
    {
     "name": "stdout",
     "output_type": "stream",
     "text": [
      "Number of players with CT > 5: 10\n"
     ]
    }
   ],
   "source": [
    "#convert 'CT to numeric\n",
    "valid_players['CT'] = pd.to_numeric(valid_players['CT'],errors='coerce').fillna(0)\n",
    "\n",
    "#count players with more than 5 caused turnovers\n",
    "num_caused = (valid_players['CT']>5).sum()\n",
    "print(f\"Number of players with CT > 5: {num_caused}\")"
   ]
  },
  {
   "cell_type": "markdown",
   "metadata": {},
   "source": [
    "## 8. Which player had the most combined offensive contribution ?"
   ]
  },
  {
   "cell_type": "code",
   "execution_count": 15,
   "metadata": {},
   "outputs": [
    {
     "name": "stdout",
     "output_type": "stream",
     "text": [
      "Top contributor: Ward, Emma with 76 total goals + assists\n"
     ]
    }
   ],
   "source": [
    "# Convert 'G' and 'A' to numeric\n",
    "valid_players['G'] = pd.to_numeric(valid_players['G'], errors='coerce').fillna(0)\n",
    "valid_players['A'] = pd.to_numeric(valid_players['A'], errors='coerce').fillna(0)\n",
    "\n",
    "# Compute combined offensive contribution\n",
    "valid_players['Combined'] = valid_players['G'] + valid_players['A']\n",
    "\n",
    "# Identify and print the top contributor\n",
    "top = valid_players.loc[valid_players['Combined'].idxmax(), ['PLAYER', 'Combined']]\n",
    "print(f\"Top contributor: {top['PLAYER']} with {int(top['Combined'])} total goals + assists\")\n",
    "\n"
   ]
  },
  {
   "cell_type": "markdown",
   "metadata": {},
   "source": [
    "# 9. Who had the highest impact on defense ?"
   ]
  },
  {
   "cell_type": "code",
   "execution_count": 16,
   "metadata": {},
   "outputs": [
    {
     "name": "stdout",
     "output_type": "stream",
     "text": [
      "Top defensive impact: Rode, Meghan with a score of 76\n"
     ]
    }
   ],
   "source": [
    " #Convert defensive stats to numeric\n",
    "valid_players['GB'] = pd.to_numeric(valid_players['GB'], errors='coerce').fillna(0)\n",
    "valid_players['CT'] = pd.to_numeric(valid_players['CT'], errors='coerce').fillna(0)\n",
    "valid_players['DC'] = pd.to_numeric(valid_players['DC'], errors='coerce').fillna(0)\n",
    "\n",
    "# Compute defense impact score and identify top contributor\n",
    "valid_players['Defense_Impact'] = valid_players['GB'] + valid_players['CT'] + valid_players['DC']\n",
    "top_defender = valid_players.loc[valid_players['Defense_Impact'].idxmax(), ['PLAYER', 'Defense_Impact']]\n",
    "\n",
    "print(f\"Top defensive impact: {top_defender['PLAYER']} with a score of {int(top_defender['Defense_Impact'])}\")"
   ]
  },
  {
   "cell_type": "markdown",
   "metadata": {},
   "source": [
    "# 10. What is the correlation between shots taken and goals scored?"
   ]
  },
  {
   "cell_type": "code",
   "execution_count": 20,
   "metadata": {},
   "outputs": [
    {
     "data": {
      "image/png": "[encoded data removed]",
      "text/plain": [
       "<Figure size 400x300 with 2 Axes>"
      ]
     },
     "metadata": {},
     "output_type": "display_data"
    }
   ],
   "source": [
    "import matplotlib.pyplot as plt\n",
    "import seaborn as sns\n",
    "\n",
    "# Convert 'SH' (Shots) and 'G' (Goals) to numeric\n",
    "valid_players['SH'] = pd.to_numeric(valid_players['SH'], errors='coerce').fillna(0)\n",
    "valid_players['G'] = pd.to_numeric(valid_players['G'], errors='coerce').fillna(0)\n",
    "\n",
    "# Compute correlation matrix for SH and G\n",
    "corr_matrix = valid_players[['SH', 'G']].corr()\n",
    "\n",
    "# Plot heatmap\n",
    "plt.figure(figsize=(4, 3))\n",
    "sns.heatmap(corr_matrix, annot=True, cmap='coolwarm', vmin=-1, vmax=1)\n",
    "plt.title(\"Correlation Matrix: Shots vs Goals\")\n",
    "plt.tight_layout()\n",
    "plt.show()"
   ]
  },
  {
   "cell_type": "markdown",
   "metadata": {},
   "source": [
    "# 11. Who was the most improved player?"
   ]
  },
  {
   "cell_type": "code",
   "execution_count": 22,
   "metadata": {},
   "outputs": [
    {
     "name": "stdout",
     "output_type": "stream",
     "text": [
      "Most Improved Player based on defined criteria:\n",
      "PLAYER               Adamson, Olivia\n",
      "GP                               3.0\n",
      "goals_per_game              3.333333\n",
      "assists_per_game                 2.0\n",
      "SH%                         0.000056\n",
      "improvement_score           5.333389\n",
      "Name: 1, dtype: object\n"
     ]
    }
   ],
   "source": [
    "# Split 'GP-GS' into 'GP' and 'GS'\n",
    "valid_players[['GP', 'GS']] = valid_players['GP-GS'].str.split('-', expand=True)\n",
    "\n",
    "# Convert to numeric\n",
    "valid_players['GP'] = pd.to_numeric(valid_players['GP'], errors='coerce').fillna(0)\n",
    "valid_players['G'] = pd.to_numeric(valid_players['G'], errors='coerce').fillna(0)\n",
    "valid_players['A'] = pd.to_numeric(valid_players['A'], errors='coerce').fillna(0)\n",
    "valid_players['SH%'] = pd.to_numeric(valid_players['SH%'], errors='coerce') / 100  # convert % to fraction\n",
    "\n",
    "# Compute metrics\n",
    "valid_players['goals_per_game'] = valid_players['G'] / valid_players['GP']\n",
    "valid_players['assists_per_game'] = valid_players['A'] / valid_players['GP']\n",
    "\n",
    "# Define improvement score: sum of normalized metrics\n",
    "valid_players['improvement_score'] = valid_players['goals_per_game'] + valid_players['assists_per_game'] + valid_players['SH%']\n",
    "\n",
    "# Identify most improved player\n",
    "most_improved = valid_players.loc[valid_players['improvement_score'].idxmax(), \n",
    "                         ['PLAYER', 'GP', 'goals_per_game', 'assists_per_game', 'SH%', 'improvement_score']]\n",
    "\n",
    "print(\"Most Improved Player based on defined criteria:\")\n",
    "print(most_improved)\n",
    "\n"
   ]
  }
 ],
 "metadata": {
  "kernelspec": {
   "display_name": "Python 3",
   "language": "python",
   "name": "python3"
  },
  "language_info": {
   "codemirror_mode": {
    "name": "ipython",
    "version": 3
   },
   "file_extension": ".py",
   "mimetype": "text/x-python",
   "name": "python",
   "nbconvert_exporter": "python",
   "pygments_lexer": "ipython3",
   "version": "3.10.12"
  }
 },
 "nbformat": 4,
 "nbformat_minor": 2
}
